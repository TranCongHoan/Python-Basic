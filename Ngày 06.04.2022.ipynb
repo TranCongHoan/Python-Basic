{
 "cells": [
  {
   "cell_type": "code",
   "execution_count": 1,
   "id": "35786e9e",
   "metadata": {
    "scrolled": true
   },
   "outputs": [
    {
     "name": "stdout",
     "output_type": "stream",
     "text": [
      "hello world\n",
      "hello world\n",
      "hello world\n",
      "hello world\n",
      "hello world\n",
      "hello world\n",
      "hello world\n",
      "hello world\n",
      "hello world\n",
      "hello world\n",
      "kết thúc\n"
     ]
    }
   ],
   "source": [
    "#While\n",
    "# Nguyên tắc luôn có 1 biến đếm(counter) trước while\n",
    "\n",
    "i = 0 #giá trị đầu tiên của biến chạy\n",
    "while i < 10 : #giá trị kết thúc\n",
    "    print('hello world')\n",
    "    i += 1 #bước nhảy\n",
    "    \n",
    "print('kết thúc')"
   ]
  },
  {
   "cell_type": "code",
   "execution_count": 7,
   "id": "b52a366f",
   "metadata": {},
   "outputs": [
    {
     "name": "stdout",
     "output_type": "stream",
     "text": [
      "1 3 5 7 9 11 13 15 17 19 21 23 25 27 29 31 33 35 37 39 41 43 45 47 49 51 53 55 57 59 61 63 65 67 69 71 73 75 77 79 81 83 85 87 89 91 93 95 97 99 kết thúc\n"
     ]
    }
   ],
   "source": [
    "i = 1\n",
    "while i < 101:\n",
    "    print(i, end =' ')\n",
    "    i += 2\n",
    "print('kết thúc')"
   ]
  },
  {
   "cell_type": "code",
   "execution_count": 9,
   "id": "bfc70558",
   "metadata": {},
   "outputs": [
    {
     "name": "stdout",
     "output_type": "stream",
     "text": [
      "Nhập số tự nhiên N: 18\n",
      "3\n",
      "9\n",
      "15\n"
     ]
    }
   ],
   "source": [
    "N = int(input('Nhập số tự nhiên N: '))\n",
    "i = 1\n",
    "while i < N :\n",
    "    if i %3 == 0 and i %6 != 0 :\n",
    "        print(i)\n",
    "    i += 1"
   ]
  },
  {
   "cell_type": "code",
   "execution_count": 1,
   "id": "45046623",
   "metadata": {},
   "outputs": [],
   "source": [
    "#Vẽ Ngôi sao sử dung While\n",
    "import turtle\n",
    "tl = turtle.Turtle()\n",
    "\n",
    "i = 1\n",
    "while i < 6:\n",
    "    tl.forward(100)\n",
    "    tl.right(144)\n",
    "    i += 1\n",
    "    \n",
    "turtle.done()"
   ]
  },
  {
   "cell_type": "code",
   "execution_count": 12,
   "id": "ae3c581a",
   "metadata": {},
   "outputs": [
    {
     "name": "stdout",
     "output_type": "stream",
     "text": [
      "5050\n"
     ]
    }
   ],
   "source": [
    "# Tính tổng từ 1 -> 100\n",
    "i = 1\n",
    "sum = 0\n",
    "while i < 101:\n",
    "    sum += i\n",
    "    \n",
    "    i += 1\n",
    "print(sum)"
   ]
  },
  {
   "cell_type": "code",
   "execution_count": 24,
   "id": "7787c806",
   "metadata": {},
   "outputs": [
    {
     "name": "stdout",
     "output_type": "stream",
     "text": [
      "Nhập vào chuỗi kí tự: dsd5456hgfh\n",
      "chuỗi có 4 kí tự là chữ số\n"
     ]
    }
   ],
   "source": [
    "#Nhập 1 chuỗi kí tự đếm xem có bao nhiêu kí tự là chữ số\n",
    "text = str(input('Nhập vào chuỗi kí tự: '))\n",
    "count = 0\n",
    "for i in text :\n",
    "    if i in '0123456789':\n",
    "        count += 1\n",
    "        \n",
    "print('chuỗi có', m, 'kí tự là chữ số')\n",
    "        "
   ]
  },
  {
   "cell_type": "code",
   "execution_count": 2,
   "id": "70885fc6",
   "metadata": {},
   "outputs": [
    {
     "name": "stdout",
     "output_type": "stream",
     "text": [
      "Nhập vào chuỗi kí tự: dsd45664fsdf\n",
      "chuỗi có 5 kí tự là chữ số\n"
     ]
    }
   ],
   "source": [
    "#Nhập 1 chuỗi kí tự đếm xem có bao nhiêu kí tự là chữ số\n",
    "text = str(input('Nhập vào chuỗi kí tự: '))\n",
    "count = 0\n",
    "for i in text :\n",
    "    if i == '0' or i == '0' or i == '1' or i == '2' or i == '3' or i == '4' or i == '5' or i == '6' or i == '7' or i == '8' or i == '9':\n",
    "        count += 1\n",
    "        \n",
    "print('chuỗi có', count, 'kí tự là chữ số')"
   ]
  },
  {
   "cell_type": "code",
   "execution_count": null,
   "id": "57ec55c9",
   "metadata": {},
   "outputs": [],
   "source": []
  }
 ],
 "metadata": {
  "kernelspec": {
   "display_name": "Python 3 (ipykernel)",
   "language": "python",
   "name": "python3"
  },
  "language_info": {
   "codemirror_mode": {
    "name": "ipython",
    "version": 3
   },
   "file_extension": ".py",
   "mimetype": "text/x-python",
   "name": "python",
   "nbconvert_exporter": "python",
   "pygments_lexer": "ipython3",
   "version": "3.9.7"
  }
 },
 "nbformat": 4,
 "nbformat_minor": 5
}
