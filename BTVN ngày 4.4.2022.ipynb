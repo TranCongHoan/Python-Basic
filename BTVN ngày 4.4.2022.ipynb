{
 "cells": [
  {
   "cell_type": "code",
   "execution_count": 4,
   "id": "df19dc0b",
   "metadata": {},
   "outputs": [
    {
     "name": "stdout",
     "output_type": "stream",
     "text": [
      "Nhập điểm kiểm tra 15p môn Toán: 5\n",
      "Nhập điểm kiểm tra giữa kì môn Toán: 5\n",
      "Nhập điểm kiểm tra cuối kì môn Toán: 5\n",
      "Điểm trung bình môn Toán là :  5.0\n",
      "Học sinh đạt tổng kết 5.0 Xếp loại trung bình\n"
     ]
    }
   ],
   "source": [
    "#Bài 1\n",
    "score1 = float(input('Nhập điểm kiểm tra 15p môn Toán: '))\n",
    "score2 = float(input('Nhập điểm kiểm tra giữa kì môn Toán: '))\n",
    "score3 = float(input('Nhập điểm kiểm tra cuối kì môn Toán: '))\n",
    "score = (score1 + 1.5*score2 + 2*score3)/4.5\n",
    "print('Điểm trung bình môn Toán là : ',score)\n",
    "if score >= 8 and score <= 10:\n",
    "    print('Học sinh đạt tổng kết', score, 'Xếp loại giỏi')\n",
    "elif score >= 6.5  and score < 8:\n",
    "    print('Học sinh đạt tổng kết', score, 'Xếp loại khá')\n",
    "elif score >= 5  and score < 6.5:\n",
    "    print('Học sinh đạt tổng kết', score, 'Xếp loại trung bình')\n",
    "elif score >= 0  and score < 5:\n",
    "    print('Học sinh đạt tổng kết', score, 'Xếp loại yếu')\n",
    "else :\n",
    "    print('nhập sai dữ liệu')"
   ]
  },
  {
   "cell_type": "code",
   "execution_count": 27,
   "id": "d061298b",
   "metadata": {},
   "outputs": [
    {
     "name": "stdout",
     "output_type": "stream",
     "text": [
      "nhập hệ số a: 3\n",
      "nhập hệ số b: -1\n",
      "nhập hệ số c: 4\n",
      "3x^2\n",
      " - x\n",
      " + 4\n",
      "3x^2 - x + 4\n"
     ]
    }
   ],
   "source": [
    "#Bài 2\n",
    "# ax2 + bx + c = 0\n",
    "a = int(input('nhập hệ số a: '))\n",
    "b = int(input('nhập hệ số b: '))\n",
    "c = int(input('nhập hệ số c: '))\n",
    "\n",
    "if a == 1:\n",
    "    d = str('x^2')\n",
    "elif a == -1:\n",
    "    d = str('-x^2')\n",
    "elif a == 0:\n",
    "    d = ('')\n",
    "else:\n",
    "    d = str(a) + str('x^2')\n",
    "print(d)\n",
    "    \n",
    "if a == 0 and b == 1:\n",
    "    e = ('x')\n",
    "elif a !=0 and b == 1:\n",
    "    e = (' + x')\n",
    "elif b == -1:\n",
    "    e = (' - x')\n",
    "elif b == 0:\n",
    "    e = ('')  \n",
    "elif b > 0 :\n",
    "    e = (' + ') + str(b) + str('x')\n",
    "elif b < 0:\n",
    "    e = (' - ') + str(abs(b)) + str('x')\n",
    "print(e)\n",
    "\n",
    "if c == 0:\n",
    "    f = ('')\n",
    "elif a ==0 and b == 0:\n",
    "    f = str(c)\n",
    "elif c > 0:\n",
    "    f = ' + ' + str(c)\n",
    "elif c < 0:\n",
    "    f = ' - ' + str(abs(c))\n",
    "    \n",
    "print(f)\n",
    "            \n",
    "            \n",
    "print(d + e + f)\n",
    "\n",
    "    \n",
    "\n",
    "\n"
   ]
  },
  {
   "cell_type": "code",
   "execution_count": null,
   "id": "ce548031",
   "metadata": {},
   "outputs": [],
   "source": []
  }
 ],
 "metadata": {
  "kernelspec": {
   "display_name": "Python 3 (ipykernel)",
   "language": "python",
   "name": "python3"
  },
  "language_info": {
   "codemirror_mode": {
    "name": "ipython",
    "version": 3
   },
   "file_extension": ".py",
   "mimetype": "text/x-python",
   "name": "python",
   "nbconvert_exporter": "python",
   "pygments_lexer": "ipython3",
   "version": "3.9.7"
  }
 },
 "nbformat": 4,
 "nbformat_minor": 5
}
