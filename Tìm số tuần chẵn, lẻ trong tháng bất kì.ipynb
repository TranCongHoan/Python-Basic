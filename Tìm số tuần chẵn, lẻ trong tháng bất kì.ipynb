{
 "cells": [
  {
   "cell_type": "code",
   "execution_count": 1,
   "id": "d1561368",
   "metadata": {},
   "outputs": [
    {
     "name": "stdout",
     "output_type": "stream",
     "text": [
      " - Hàm tìm nghiệm pt bac 2 trả về 3 giá trị\n",
      "    - Số thứ 1 có giá trị -1,0,1,2 tương ứng với vô nghiệm, vô số nghiệm, nghiệm kép, 2 nghiệm phân biệt\n",
      "    - 2 số tiếp theo là giá trị của nghiệm, None nếu không có giá trị.\n",
      "    \n",
      "(-1, None, None)\n"
     ]
    }
   ],
   "source": [
    "#Giải phương trình bậc 2. Nếu có 2 nghiên phân biệt tính giá trị trung bình 2 nghiệm\n",
    "import math #thư viện nên import ngoài hàm\n",
    "def ptbac2(a = 1,b = 3,c = 2):\n",
    "    ''' - Hàm tìm nghiệm pt bac 2 trả về 3 giá trị\n",
    "    - Số thứ 1 có giá trị -1,0,1,2 tương ứng với vô nghiệm, vô số nghiệm, nghiệm kép, 2 nghiệm phân biệt\n",
    "    - 2 số tiếp theo là giá trị của nghiệm, None nếu không có giá trị.\n",
    "    '''\n",
    "    if a == 0:\n",
    "        if b == 0:\n",
    "            if c == 0:\n",
    "                x = 0\n",
    "                x1 = None\n",
    "                x2 = None\n",
    "            else:\n",
    "                x = -1\n",
    "                x1 = None\n",
    "                x2 = None\n",
    "        else:\n",
    "            x = 1\n",
    "            x1 = -c/b\n",
    "            x2 = -c/b\n",
    "    else:\n",
    "        delta = b*b - 4*a*c\n",
    "        if delta < 0:\n",
    "            x = -1\n",
    "            x1 = None\n",
    "            x2 = None\n",
    "        elif delta == 0:\n",
    "            x = 1\n",
    "            x1 = -b/(2*a)\n",
    "            x2 = -b/(2*a)\n",
    "        else:\n",
    "            x = 2\n",
    "            x1 = (-b - math.sqrt(delta))/(2*a)\n",
    "            x2 = (-b + math.sqrt(delta))/(2*a)\n",
    "    return x, x1, x2\n",
    "print(ptbac2.__doc__)\n",
    "print(ptbac2(3,5,8))\n"
   ]
  },
  {
   "cell_type": "code",
   "execution_count": 22,
   "id": "6e38be3a",
   "metadata": {},
   "outputs": [
    {
     "name": "stdout",
     "output_type": "stream",
     "text": [
      "    - Hàm tính tổng số tuần trong 1 tháng của 1 năm bất kì\n",
      "    - out ra tổng số tuần, số tuần chẵn, số tuần lẻ\n",
      "    - Số thứ nhất là tổn số tuần, số thứ 2 là tổng tuần chẵn, số thứ 4 tổng tuần le\n",
      "    \n",
      "(5, 3, 2)\n"
     ]
    }
   ],
   "source": [
    "import datetime\n",
    "sotuan = 0\n",
    "sotuanchan =0\n",
    "sotuanle =0\n",
    "def tuanchan_tuanle(month,year):\n",
    "    '''    - Hàm tính tổng số tuần trong 1 tháng của 1 năm bất kì\n",
    "    - out ra tổng số tuần, số tuần chẵn, số tuần lẻ\n",
    "    - Số thứ nhất là tổn số tuần, số thứ 2 là tổng tuần chẵn, số thứ 3 tổng tuần lẻ\n",
    "    '''\n",
    "    if month in (1,3,5,7,8,10,12):\n",
    "        days = 31\n",
    "    elif month in (4,6,9,11):\n",
    "        days = 30\n",
    "    else:\n",
    "        if year%400==0 and ( year%4 ==0 and year%100 !=0):\n",
    "            days = 29\n",
    "        else:\n",
    "            days = 28\n",
    "            \n",
    "    firtday = datetime.date(year,month,1).weekday()\n",
    "    lastday = datetime.date(year,month,days).weekday()\n",
    "    if firtday == 0:\n",
    "        sotuanchan = days//7\n",
    "        if days%7 != 0:\n",
    "            sotuanle = 1\n",
    "    else:\n",
    "        sotuanchan = ((days - 7 + firtday)//7)\n",
    "        if lastday == 6:\n",
    "            sotuanle = 1\n",
    "        else:\n",
    "            sotuanle = 2\n",
    "    sotuan = sotuanchan + sotuanle\n",
    "    return sotuan,sotuanchan,sotuanle\n",
    "print(tuanchan_tuanle.__doc__)\n",
    "print(tuanchan_tuanle(3,2022))"
   ]
  },
  {
   "cell_type": "code",
   "execution_count": null,
   "id": "2935f517",
   "metadata": {},
   "outputs": [],
   "source": []
  },
  {
   "cell_type": "code",
   "execution_count": null,
   "id": "61cc9c72",
   "metadata": {},
   "outputs": [],
   "source": []
  }
 ],
 "metadata": {
  "kernelspec": {
   "display_name": "Python 3 (ipykernel)",
   "language": "python",
   "name": "python3"
  },
  "language_info": {
   "codemirror_mode": {
    "name": "ipython",
    "version": 3
   },
   "file_extension": ".py",
   "mimetype": "text/x-python",
   "name": "python",
   "nbconvert_exporter": "python",
   "pygments_lexer": "ipython3",
   "version": "3.9.7"
  }
 },
 "nbformat": 4,
 "nbformat_minor": 5
}
