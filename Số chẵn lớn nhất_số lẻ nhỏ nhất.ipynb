{
 "cells": [
  {
   "cell_type": "code",
   "execution_count": 3,
   "id": "b60bf223",
   "metadata": {
    "scrolled": true
   },
   "outputs": [
    {
     "name": "stdout",
     "output_type": "stream",
     "text": [
      "không tồn tại số chẵn\n",
      "không tồn tại số lẻ\n"
     ]
    }
   ],
   "source": [
    "def min_max(chuoi):\n",
    "    '''Hàm tìm số chắn lớn mhất_ số lẻ nhỏ nhất'''    \n",
    "    number = ''\n",
    "    count_chan = 0\n",
    "    count_le = 0\n",
    "    maxi = 0 \n",
    "    mini = 9999999999999999999999999\n",
    "    for i in chuoi:\n",
    "        if i in '0123456789 ':\n",
    "            number += i\n",
    "    number = number.split()\n",
    "    for i in number:\n",
    "        if int(i)%2 != 0:\n",
    "            count_le += 1\n",
    "        else:\n",
    "            if maxi < int(i):\n",
    "                    maxi = int(i)\n",
    "        if int(i)%2 == 0:  \n",
    "            count_chan += 1\n",
    "        else:\n",
    "            if mini > int(i):\n",
    "                    mini = int(i)\n",
    "    if  count_chan == 0 or maxi ==0 :\n",
    "         print('không tồn tại số chẵn')\n",
    "    else:\n",
    "        print('số chắn lớn nhất là', maxi)\n",
    "        \n",
    "    if  count_le == 0:\n",
    "         print('không tồn tại số lẻ')  \n",
    "    else:\n",
    "        print('số lẻ nhỏ nhất là', mini)\n",
    "min_max('f  fd f f 0f')"
   ]
  },
  {
   "cell_type": "code",
   "execution_count": 7,
   "id": "1d2fe9b1",
   "metadata": {},
   "outputs": [
    {
     "name": "stdout",
     "output_type": "stream",
     "text": [
      "không tồn tại số chẵn\n",
      "số lẻ nhỏ nhất là 3\n"
     ]
    }
   ],
   "source": [
    "from hoan_lib import *\n",
    "min_max('f 0y 0f fj3 ru0f')"
   ]
  },
  {
   "cell_type": "code",
   "execution_count": null,
   "id": "912bf3b9",
   "metadata": {},
   "outputs": [],
   "source": []
  }
 ],
 "metadata": {
  "kernelspec": {
   "display_name": "Python 3 (ipykernel)",
   "language": "python",
   "name": "python3"
  },
  "language_info": {
   "codemirror_mode": {
    "name": "ipython",
    "version": 3
   },
   "file_extension": ".py",
   "mimetype": "text/x-python",
   "name": "python",
   "nbconvert_exporter": "python",
   "pygments_lexer": "ipython3",
   "version": "3.9.7"
  }
 },
 "nbformat": 4,
 "nbformat_minor": 5
}
